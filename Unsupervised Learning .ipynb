{
 "cells": [
  {
   "cell_type": "markdown",
   "id": "aware-roots",
   "metadata": {},
   "source": [
    "# Quick description:"
   ]
  },
  {
   "cell_type": "markdown",
   "id": "handmade-holmes",
   "metadata": {},
   "source": [
    "**Context**\n",
    "Online retail is a transnational data set which contains all the transactions occurring between 01/12/2010 and 09/12/2011 for a UK-based and registered non-store online retail. The company mainly sells unique all-occasion gifts. Many customers of the company are wholesalers.\n",
    "\n",
    "**Business Goal**\n",
    "We will be using the online retail trasnational dataset to build a RFM clustering and choose the best set of customers which the company should target."
   ]
  },
  {
   "cell_type": "markdown",
   "id": "remarkable-tobacco",
   "metadata": {},
   "source": [
    "## Data was taken from https://www.kaggle.com/hellbuoy/online-retail-customer-clustering"
   ]
  },
  {
   "cell_type": "code",
   "execution_count": 1,
   "id": "changed-prison",
   "metadata": {},
   "outputs": [],
   "source": [
    "import numpy as np\n",
    "import pandas as pd\n",
    "import matplotlib.pyplot as plt\n",
    "import seaborn as sns\n",
    "from sklearn.cluster import KMeans\n",
    "from sklearn.preprocessing import RobustScaler\n",
    "from sklearn.metrics import silhouette_score\n",
    "from sklearn.cluster import AgglomerativeClustering"
   ]
  },
  {
   "cell_type": "code",
   "execution_count": 2,
   "id": "military-disco",
   "metadata": {},
   "outputs": [
    {
     "data": {
      "text/html": [
       "<div>\n",
       "<style scoped>\n",
       "    .dataframe tbody tr th:only-of-type {\n",
       "        vertical-align: middle;\n",
       "    }\n",
       "\n",
       "    .dataframe tbody tr th {\n",
       "        vertical-align: top;\n",
       "    }\n",
       "\n",
       "    .dataframe thead th {\n",
       "        text-align: right;\n",
       "    }\n",
       "</style>\n",
       "<table border=\"1\" class=\"dataframe\">\n",
       "  <thead>\n",
       "    <tr style=\"text-align: right;\">\n",
       "      <th></th>\n",
       "      <th>InvoiceNo</th>\n",
       "      <th>StockCode</th>\n",
       "      <th>Description</th>\n",
       "      <th>Quantity</th>\n",
       "      <th>InvoiceDate</th>\n",
       "      <th>UnitPrice</th>\n",
       "      <th>CustomerID</th>\n",
       "      <th>Country</th>\n",
       "    </tr>\n",
       "  </thead>\n",
       "  <tbody>\n",
       "    <tr>\n",
       "      <th>0</th>\n",
       "      <td>536365</td>\n",
       "      <td>85123A</td>\n",
       "      <td>WHITE HANGING HEART T-LIGHT HOLDER</td>\n",
       "      <td>6</td>\n",
       "      <td>01-12-2010 08:26</td>\n",
       "      <td>2.55</td>\n",
       "      <td>17850.0</td>\n",
       "      <td>United Kingdom</td>\n",
       "    </tr>\n",
       "    <tr>\n",
       "      <th>1</th>\n",
       "      <td>536365</td>\n",
       "      <td>71053</td>\n",
       "      <td>WHITE METAL LANTERN</td>\n",
       "      <td>6</td>\n",
       "      <td>01-12-2010 08:26</td>\n",
       "      <td>3.39</td>\n",
       "      <td>17850.0</td>\n",
       "      <td>United Kingdom</td>\n",
       "    </tr>\n",
       "    <tr>\n",
       "      <th>2</th>\n",
       "      <td>536365</td>\n",
       "      <td>84406B</td>\n",
       "      <td>CREAM CUPID HEARTS COAT HANGER</td>\n",
       "      <td>8</td>\n",
       "      <td>01-12-2010 08:26</td>\n",
       "      <td>2.75</td>\n",
       "      <td>17850.0</td>\n",
       "      <td>United Kingdom</td>\n",
       "    </tr>\n",
       "    <tr>\n",
       "      <th>3</th>\n",
       "      <td>536365</td>\n",
       "      <td>84029G</td>\n",
       "      <td>KNITTED UNION FLAG HOT WATER BOTTLE</td>\n",
       "      <td>6</td>\n",
       "      <td>01-12-2010 08:26</td>\n",
       "      <td>3.39</td>\n",
       "      <td>17850.0</td>\n",
       "      <td>United Kingdom</td>\n",
       "    </tr>\n",
       "    <tr>\n",
       "      <th>4</th>\n",
       "      <td>536365</td>\n",
       "      <td>84029E</td>\n",
       "      <td>RED WOOLLY HOTTIE WHITE HEART.</td>\n",
       "      <td>6</td>\n",
       "      <td>01-12-2010 08:26</td>\n",
       "      <td>3.39</td>\n",
       "      <td>17850.0</td>\n",
       "      <td>United Kingdom</td>\n",
       "    </tr>\n",
       "  </tbody>\n",
       "</table>\n",
       "</div>"
      ],
      "text/plain": [
       "  InvoiceNo StockCode                          Description  Quantity  \\\n",
       "0    536365    85123A   WHITE HANGING HEART T-LIGHT HOLDER         6   \n",
       "1    536365     71053                  WHITE METAL LANTERN         6   \n",
       "2    536365    84406B       CREAM CUPID HEARTS COAT HANGER         8   \n",
       "3    536365    84029G  KNITTED UNION FLAG HOT WATER BOTTLE         6   \n",
       "4    536365    84029E       RED WOOLLY HOTTIE WHITE HEART.         6   \n",
       "\n",
       "        InvoiceDate  UnitPrice  CustomerID         Country  \n",
       "0  01-12-2010 08:26       2.55     17850.0  United Kingdom  \n",
       "1  01-12-2010 08:26       3.39     17850.0  United Kingdom  \n",
       "2  01-12-2010 08:26       2.75     17850.0  United Kingdom  \n",
       "3  01-12-2010 08:26       3.39     17850.0  United Kingdom  \n",
       "4  01-12-2010 08:26       3.39     17850.0  United Kingdom  "
      ]
     },
     "execution_count": 2,
     "metadata": {},
     "output_type": "execute_result"
    }
   ],
   "source": [
    "data = pd.read_csv(\"OnlineRetail.csv\")\n",
    "data.head()"
   ]
  },
  {
   "cell_type": "markdown",
   "id": "lesser-batch",
   "metadata": {},
   "source": [
    "# Data Exploration Plan"
   ]
  },
  {
   "cell_type": "markdown",
   "id": "bearing-maple",
   "metadata": {},
   "source": [
    "As a first step I checked data for the number of missing values and the info about numberic columns in dataset"
   ]
  },
  {
   "cell_type": "code",
   "execution_count": 3,
   "id": "induced-class",
   "metadata": {},
   "outputs": [
    {
     "name": "stdout",
     "output_type": "stream",
     "text": [
      "<class 'pandas.core.frame.DataFrame'>\n",
      "RangeIndex: 541909 entries, 0 to 541908\n",
      "Data columns (total 8 columns):\n",
      " #   Column       Non-Null Count   Dtype  \n",
      "---  ------       --------------   -----  \n",
      " 0   InvoiceNo    541909 non-null  object \n",
      " 1   StockCode    541909 non-null  object \n",
      " 2   Description  540455 non-null  object \n",
      " 3   Quantity     541909 non-null  int64  \n",
      " 4   InvoiceDate  541909 non-null  object \n",
      " 5   UnitPrice    541909 non-null  float64\n",
      " 6   CustomerID   406829 non-null  float64\n",
      " 7   Country      541909 non-null  object \n",
      "dtypes: float64(2), int64(1), object(5)\n",
      "memory usage: 33.1+ MB\n"
     ]
    }
   ],
   "source": [
    "data.info()"
   ]
  },
  {
   "cell_type": "markdown",
   "id": "naval-conference",
   "metadata": {},
   "source": [
    "As you can see below there is about 135080 values in CustomerID columns and 1454 missing entries in Description part."
   ]
  },
  {
   "cell_type": "code",
   "execution_count": 4,
   "id": "animated-judgment",
   "metadata": {},
   "outputs": [
    {
     "data": {
      "text/plain": [
       "InvoiceNo           0\n",
       "StockCode           0\n",
       "Description      1454\n",
       "Quantity            0\n",
       "InvoiceDate         0\n",
       "UnitPrice           0\n",
       "CustomerID     135080\n",
       "Country             0\n",
       "dtype: int64"
      ]
     },
     "execution_count": 4,
     "metadata": {},
     "output_type": "execute_result"
    }
   ],
   "source": [
    "data.isna().sum()"
   ]
  },
  {
   "cell_type": "code",
   "execution_count": 5,
   "id": "confirmed-mercy",
   "metadata": {},
   "outputs": [
    {
     "data": {
      "text/html": [
       "<div>\n",
       "<style scoped>\n",
       "    .dataframe tbody tr th:only-of-type {\n",
       "        vertical-align: middle;\n",
       "    }\n",
       "\n",
       "    .dataframe tbody tr th {\n",
       "        vertical-align: top;\n",
       "    }\n",
       "\n",
       "    .dataframe thead th {\n",
       "        text-align: right;\n",
       "    }\n",
       "</style>\n",
       "<table border=\"1\" class=\"dataframe\">\n",
       "  <thead>\n",
       "    <tr style=\"text-align: right;\">\n",
       "      <th></th>\n",
       "      <th>Quantity</th>\n",
       "      <th>UnitPrice</th>\n",
       "      <th>CustomerID</th>\n",
       "    </tr>\n",
       "  </thead>\n",
       "  <tbody>\n",
       "    <tr>\n",
       "      <th>count</th>\n",
       "      <td>541909.000000</td>\n",
       "      <td>541909.000000</td>\n",
       "      <td>406829.000000</td>\n",
       "    </tr>\n",
       "    <tr>\n",
       "      <th>mean</th>\n",
       "      <td>9.552250</td>\n",
       "      <td>4.611114</td>\n",
       "      <td>15287.690570</td>\n",
       "    </tr>\n",
       "    <tr>\n",
       "      <th>std</th>\n",
       "      <td>218.081158</td>\n",
       "      <td>96.759853</td>\n",
       "      <td>1713.600303</td>\n",
       "    </tr>\n",
       "    <tr>\n",
       "      <th>min</th>\n",
       "      <td>-80995.000000</td>\n",
       "      <td>-11062.060000</td>\n",
       "      <td>12346.000000</td>\n",
       "    </tr>\n",
       "    <tr>\n",
       "      <th>25%</th>\n",
       "      <td>1.000000</td>\n",
       "      <td>1.250000</td>\n",
       "      <td>13953.000000</td>\n",
       "    </tr>\n",
       "    <tr>\n",
       "      <th>50%</th>\n",
       "      <td>3.000000</td>\n",
       "      <td>2.080000</td>\n",
       "      <td>15152.000000</td>\n",
       "    </tr>\n",
       "    <tr>\n",
       "      <th>75%</th>\n",
       "      <td>10.000000</td>\n",
       "      <td>4.130000</td>\n",
       "      <td>16791.000000</td>\n",
       "    </tr>\n",
       "    <tr>\n",
       "      <th>max</th>\n",
       "      <td>80995.000000</td>\n",
       "      <td>38970.000000</td>\n",
       "      <td>18287.000000</td>\n",
       "    </tr>\n",
       "  </tbody>\n",
       "</table>\n",
       "</div>"
      ],
      "text/plain": [
       "            Quantity      UnitPrice     CustomerID\n",
       "count  541909.000000  541909.000000  406829.000000\n",
       "mean        9.552250       4.611114   15287.690570\n",
       "std       218.081158      96.759853    1713.600303\n",
       "min    -80995.000000  -11062.060000   12346.000000\n",
       "25%         1.000000       1.250000   13953.000000\n",
       "50%         3.000000       2.080000   15152.000000\n",
       "75%        10.000000       4.130000   16791.000000\n",
       "max     80995.000000   38970.000000   18287.000000"
      ]
     },
     "execution_count": 5,
     "metadata": {},
     "output_type": "execute_result"
    }
   ],
   "source": [
    "data.describe()"
   ]
  },
  {
   "cell_type": "markdown",
   "id": "verified-samoa",
   "metadata": {},
   "source": [
    "# Data cleansing plan"
   ]
  },
  {
   "cell_type": "markdown",
   "id": "organized-plasma",
   "metadata": {},
   "source": [
    "Our data is had many correct entries, so it will not lose much information, if missing rows will be dropped"
   ]
  },
  {
   "cell_type": "code",
   "execution_count": 6,
   "id": "industrial-sterling",
   "metadata": {},
   "outputs": [],
   "source": [
    "data = data.dropna()"
   ]
  },
  {
   "cell_type": "code",
   "execution_count": 7,
   "id": "amended-jerusalem",
   "metadata": {},
   "outputs": [],
   "source": [
    "data['InvoiceDate'] = pd.to_datetime(data['InvoiceDate'],format='%d-%m-%Y %H:%M')"
   ]
  },
  {
   "cell_type": "markdown",
   "id": "corresponding-quality",
   "metadata": {},
   "source": [
    "# Feature Engineering"
   ]
  },
  {
   "cell_type": "markdown",
   "id": "sonic-stock",
   "metadata": {},
   "source": [
    "Here I constructed 3 new columns, which will help to cluster our clients in different categories."
   ]
  },
  {
   "cell_type": "code",
   "execution_count": 8,
   "id": "smart-kitty",
   "metadata": {},
   "outputs": [
    {
     "name": "stdout",
     "output_type": "stream",
     "text": [
      "      CustomerID    Total\n",
      "0        12346.0     0.00\n",
      "1        12347.0  4310.00\n",
      "2        12348.0  1797.24\n",
      "3        12349.0  1757.55\n",
      "4        12350.0   334.40\n",
      "...          ...      ...\n",
      "4367     18280.0   180.60\n",
      "4368     18281.0    80.82\n",
      "4369     18282.0   176.60\n",
      "4370     18283.0  2094.88\n",
      "4371     18287.0  1837.28\n",
      "\n",
      "[4372 rows x 2 columns]\n"
     ]
    }
   ],
   "source": [
    "data['Total'] = data['Quantity'] * data['UnitPrice']\n",
    "fin_frame = data.groupby('CustomerID')['Total'].sum().reset_index()\n",
    "print(fin_frame)"
   ]
  },
  {
   "cell_type": "code",
   "execution_count": 9,
   "id": "lasting-african",
   "metadata": {},
   "outputs": [
    {
     "data": {
      "text/html": [
       "<div>\n",
       "<style scoped>\n",
       "    .dataframe tbody tr th:only-of-type {\n",
       "        vertical-align: middle;\n",
       "    }\n",
       "\n",
       "    .dataframe tbody tr th {\n",
       "        vertical-align: top;\n",
       "    }\n",
       "\n",
       "    .dataframe thead th {\n",
       "        text-align: right;\n",
       "    }\n",
       "</style>\n",
       "<table border=\"1\" class=\"dataframe\">\n",
       "  <thead>\n",
       "    <tr style=\"text-align: right;\">\n",
       "      <th></th>\n",
       "      <th>CustomerID</th>\n",
       "      <th>Total</th>\n",
       "      <th>InvoiceNo</th>\n",
       "    </tr>\n",
       "  </thead>\n",
       "  <tbody>\n",
       "    <tr>\n",
       "      <th>0</th>\n",
       "      <td>12346.0</td>\n",
       "      <td>0.00</td>\n",
       "      <td>2</td>\n",
       "    </tr>\n",
       "    <tr>\n",
       "      <th>1</th>\n",
       "      <td>12347.0</td>\n",
       "      <td>4310.00</td>\n",
       "      <td>182</td>\n",
       "    </tr>\n",
       "    <tr>\n",
       "      <th>2</th>\n",
       "      <td>12348.0</td>\n",
       "      <td>1797.24</td>\n",
       "      <td>31</td>\n",
       "    </tr>\n",
       "    <tr>\n",
       "      <th>3</th>\n",
       "      <td>12349.0</td>\n",
       "      <td>1757.55</td>\n",
       "      <td>73</td>\n",
       "    </tr>\n",
       "    <tr>\n",
       "      <th>4</th>\n",
       "      <td>12350.0</td>\n",
       "      <td>334.40</td>\n",
       "      <td>17</td>\n",
       "    </tr>\n",
       "  </tbody>\n",
       "</table>\n",
       "</div>"
      ],
      "text/plain": [
       "   CustomerID    Total  InvoiceNo\n",
       "0     12346.0     0.00          2\n",
       "1     12347.0  4310.00        182\n",
       "2     12348.0  1797.24         31\n",
       "3     12349.0  1757.55         73\n",
       "4     12350.0   334.40         17"
      ]
     },
     "execution_count": 9,
     "metadata": {},
     "output_type": "execute_result"
    }
   ],
   "source": [
    "fin_frame = pd.merge(fin_frame, \n",
    "                     pd.DataFrame(data.groupby('CustomerID')['InvoiceNo'].count().reset_index()), on = 'CustomerID',\n",
    "                     how = 'inner')\n",
    "fin_frame.head()"
   ]
  },
  {
   "cell_type": "code",
   "execution_count": 10,
   "id": "fifth-tsunami",
   "metadata": {},
   "outputs": [],
   "source": [
    "final = data['InvoiceDate'].max()\n",
    "data['Last_transfer'] = final - data['InvoiceDate']\n",
    "data['Last_transfer'] = data['Last_transfer'].dt.days\n",
    "new_df = data.groupby(data['CustomerID']).min()['Last_transfer']\n",
    "new_df = pd.DataFrame(new_df).reset_index()"
   ]
  },
  {
   "cell_type": "code",
   "execution_count": 11,
   "id": "atlantic-lighting",
   "metadata": {},
   "outputs": [
    {
     "data": {
      "text/html": [
       "<div>\n",
       "<style scoped>\n",
       "    .dataframe tbody tr th:only-of-type {\n",
       "        vertical-align: middle;\n",
       "    }\n",
       "\n",
       "    .dataframe tbody tr th {\n",
       "        vertical-align: top;\n",
       "    }\n",
       "\n",
       "    .dataframe thead th {\n",
       "        text-align: right;\n",
       "    }\n",
       "</style>\n",
       "<table border=\"1\" class=\"dataframe\">\n",
       "  <thead>\n",
       "    <tr style=\"text-align: right;\">\n",
       "      <th></th>\n",
       "      <th>CustomerID</th>\n",
       "      <th>Total</th>\n",
       "      <th>InvoiceNo</th>\n",
       "      <th>Last_transfer</th>\n",
       "    </tr>\n",
       "  </thead>\n",
       "  <tbody>\n",
       "    <tr>\n",
       "      <th>0</th>\n",
       "      <td>12346.0</td>\n",
       "      <td>0.00</td>\n",
       "      <td>2</td>\n",
       "      <td>325</td>\n",
       "    </tr>\n",
       "    <tr>\n",
       "      <th>1</th>\n",
       "      <td>12347.0</td>\n",
       "      <td>4310.00</td>\n",
       "      <td>182</td>\n",
       "      <td>1</td>\n",
       "    </tr>\n",
       "    <tr>\n",
       "      <th>2</th>\n",
       "      <td>12348.0</td>\n",
       "      <td>1797.24</td>\n",
       "      <td>31</td>\n",
       "      <td>74</td>\n",
       "    </tr>\n",
       "    <tr>\n",
       "      <th>3</th>\n",
       "      <td>12349.0</td>\n",
       "      <td>1757.55</td>\n",
       "      <td>73</td>\n",
       "      <td>18</td>\n",
       "    </tr>\n",
       "    <tr>\n",
       "      <th>4</th>\n",
       "      <td>12350.0</td>\n",
       "      <td>334.40</td>\n",
       "      <td>17</td>\n",
       "      <td>309</td>\n",
       "    </tr>\n",
       "  </tbody>\n",
       "</table>\n",
       "</div>"
      ],
      "text/plain": [
       "   CustomerID    Total  InvoiceNo  Last_transfer\n",
       "0     12346.0     0.00          2            325\n",
       "1     12347.0  4310.00        182              1\n",
       "2     12348.0  1797.24         31             74\n",
       "3     12349.0  1757.55         73             18\n",
       "4     12350.0   334.40         17            309"
      ]
     },
     "execution_count": 11,
     "metadata": {},
     "output_type": "execute_result"
    }
   ],
   "source": [
    "fin_frame = pd.merge(fin_frame, new_df, on = 'CustomerID', how = 'inner')\n",
    "fin_frame.head()"
   ]
  },
  {
   "cell_type": "code",
   "execution_count": 12,
   "id": "protected-stockholm",
   "metadata": {},
   "outputs": [
    {
     "data": {
      "text/plain": [
       "Text(0, 0.5, 'Range')"
      ]
     },
     "execution_count": 12,
     "metadata": {},
     "output_type": "execute_result"
    },
    {
     "data": {
      "image/png": "[encoded data removed]",
      "text/plain": [
       "<Figure size 432x288 with 1 Axes>"
      ]
     },
     "metadata": {
      "needs_background": "light"
     },
     "output_type": "display_data"
    }
   ],
   "source": [
    "attributes = ['Total','InvoiceNo','Last_transfer']\n",
    "plt.title(\"Boxplot of values\")\n",
    "sns.boxplot(data = fin_frame[attributes])\n",
    "plt.ylabel(\"Range\")"
   ]
  },
  {
   "cell_type": "markdown",
   "id": "geographic-florida",
   "metadata": {},
   "source": [
    "Here I decided to remove outliers for more clear picture of our data to clustering alghorithms. "
   ]
  },
  {
   "cell_type": "code",
   "execution_count": 13,
   "id": "dying-kentucky",
   "metadata": {},
   "outputs": [],
   "source": [
    "Q1 = fin_frame['Total'].quantile(0.10)\n",
    "Q3 = fin_frame['Total'].quantile(0.90)\n",
    "IQR = Q3 - Q1\n",
    "fin_frame = fin_frame[(fin_frame['Total'] >= Q1 - 1.5*IQR) & (fin_frame['Total'] <= Q3 + 1.5*IQR)]\n",
    "\n",
    "Q1 = fin_frame['InvoiceNo'].quantile(0.10)\n",
    "Q3 = fin_frame['InvoiceNo'].quantile(0.90)\n",
    "IQR = Q3 - Q1\n",
    "fin_frame = fin_frame[(fin_frame['InvoiceNo'] >= Q1 - 1.5*IQR) & (fin_frame['InvoiceNo'] <= Q3 + 1.5*IQR)]\n",
    "\n",
    "Q1 = fin_frame['Last_transfer'].quantile(0.10)\n",
    "Q3 = fin_frame['Last_transfer'].quantile(0.90)\n",
    "IQR = Q3 - Q1\n",
    "fin_frame = fin_frame[(fin_frame['Last_transfer'] >= Q1 - 1.5*IQR) & (fin_frame['Last_transfer'] <= Q3 + 1.5*IQR)]"
   ]
  },
  {
   "cell_type": "code",
   "execution_count": 14,
   "id": "turned-planner",
   "metadata": {},
   "outputs": [
    {
     "data": {
      "text/html": [
       "<div>\n",
       "<style scoped>\n",
       "    .dataframe tbody tr th:only-of-type {\n",
       "        vertical-align: middle;\n",
       "    }\n",
       "\n",
       "    .dataframe tbody tr th {\n",
       "        vertical-align: top;\n",
       "    }\n",
       "\n",
       "    .dataframe thead th {\n",
       "        text-align: right;\n",
       "    }\n",
       "</style>\n",
       "<table border=\"1\" class=\"dataframe\">\n",
       "  <thead>\n",
       "    <tr style=\"text-align: right;\">\n",
       "      <th></th>\n",
       "      <th>Total</th>\n",
       "      <th>InvoiceNo</th>\n",
       "      <th>Last_transfer</th>\n",
       "    </tr>\n",
       "  </thead>\n",
       "  <tbody>\n",
       "    <tr>\n",
       "      <th>0</th>\n",
       "      <td>0.00</td>\n",
       "      <td>2</td>\n",
       "      <td>325</td>\n",
       "    </tr>\n",
       "    <tr>\n",
       "      <th>1</th>\n",
       "      <td>4310.00</td>\n",
       "      <td>182</td>\n",
       "      <td>1</td>\n",
       "    </tr>\n",
       "    <tr>\n",
       "      <th>2</th>\n",
       "      <td>1797.24</td>\n",
       "      <td>31</td>\n",
       "      <td>74</td>\n",
       "    </tr>\n",
       "    <tr>\n",
       "      <th>3</th>\n",
       "      <td>1757.55</td>\n",
       "      <td>73</td>\n",
       "      <td>18</td>\n",
       "    </tr>\n",
       "    <tr>\n",
       "      <th>4</th>\n",
       "      <td>334.40</td>\n",
       "      <td>17</td>\n",
       "      <td>309</td>\n",
       "    </tr>\n",
       "  </tbody>\n",
       "</table>\n",
       "</div>"
      ],
      "text/plain": [
       "     Total  InvoiceNo  Last_transfer\n",
       "0     0.00          2            325\n",
       "1  4310.00        182              1\n",
       "2  1797.24         31             74\n",
       "3  1757.55         73             18\n",
       "4   334.40         17            309"
      ]
     },
     "execution_count": 14,
     "metadata": {},
     "output_type": "execute_result"
    }
   ],
   "source": [
    "fin_frame = fin_frame.drop('CustomerID', axis = 1)\n",
    "fin_frame.head()"
   ]
  },
  {
   "cell_type": "code",
   "execution_count": 15,
   "id": "satisfactory-extreme",
   "metadata": {},
   "outputs": [
    {
     "data": {
      "text/plain": [
       "Text(0, 0.5, 'Range')"
      ]
     },
     "execution_count": 15,
     "metadata": {},
     "output_type": "execute_result"
    },
    {
     "data": {
      "image/png": "[encoded data removed]",
      "text/plain": [
       "<Figure size 432x288 with 1 Axes>"
      ]
     },
     "metadata": {
      "needs_background": "light"
     },
     "output_type": "display_data"
    }
   ],
   "source": [
    "plt.title(\"Boxplot of values\")\n",
    "sns.boxplot(data = fin_frame)\n",
    "plt.ylabel(\"Range\")"
   ]
  },
  {
   "cell_type": "code",
   "execution_count": 16,
   "id": "pleasant-coast",
   "metadata": {},
   "outputs": [
    {
     "data": {
      "text/html": [
       "<div>\n",
       "<style scoped>\n",
       "    .dataframe tbody tr th:only-of-type {\n",
       "        vertical-align: middle;\n",
       "    }\n",
       "\n",
       "    .dataframe tbody tr th {\n",
       "        vertical-align: top;\n",
       "    }\n",
       "\n",
       "    .dataframe thead th {\n",
       "        text-align: right;\n",
       "    }\n",
       "</style>\n",
       "<table border=\"1\" class=\"dataframe\">\n",
       "  <thead>\n",
       "    <tr style=\"text-align: right;\">\n",
       "      <th></th>\n",
       "      <th>Total</th>\n",
       "      <th>InvoiceNo</th>\n",
       "      <th>Last_transfer</th>\n",
       "    </tr>\n",
       "  </thead>\n",
       "  <tbody>\n",
       "    <tr>\n",
       "      <th>0</th>\n",
       "      <td>-0.542841</td>\n",
       "      <td>-0.493333</td>\n",
       "      <td>2.091603</td>\n",
       "    </tr>\n",
       "    <tr>\n",
       "      <th>1</th>\n",
       "      <td>3.280860</td>\n",
       "      <td>1.906667</td>\n",
       "      <td>-0.381679</td>\n",
       "    </tr>\n",
       "    <tr>\n",
       "      <th>2</th>\n",
       "      <td>1.051616</td>\n",
       "      <td>-0.106667</td>\n",
       "      <td>0.175573</td>\n",
       "    </tr>\n",
       "    <tr>\n",
       "      <th>3</th>\n",
       "      <td>1.016404</td>\n",
       "      <td>0.453333</td>\n",
       "      <td>-0.251908</td>\n",
       "    </tr>\n",
       "    <tr>\n",
       "      <th>4</th>\n",
       "      <td>-0.246172</td>\n",
       "      <td>-0.293333</td>\n",
       "      <td>1.969466</td>\n",
       "    </tr>\n",
       "  </tbody>\n",
       "</table>\n",
       "</div>"
      ],
      "text/plain": [
       "      Total  InvoiceNo  Last_transfer\n",
       "0 -0.542841  -0.493333       2.091603\n",
       "1  3.280860   1.906667      -0.381679\n",
       "2  1.051616  -0.106667       0.175573\n",
       "3  1.016404   0.453333      -0.251908\n",
       "4 -0.246172  -0.293333       1.969466"
      ]
     },
     "execution_count": 16,
     "metadata": {},
     "output_type": "execute_result"
    }
   ],
   "source": [
    "sc = RobustScaler()\n",
    "frame_scaled = pd.DataFrame(data = sc.fit_transform(fin_frame), columns = ['Total', 'InvoiceNo', 'Last_transfer'])\n",
    "frame_scaled.head()"
   ]
  },
  {
   "cell_type": "markdown",
   "id": "enclosed-gibson",
   "metadata": {},
   "source": [
    "# K-Means "
   ]
  },
  {
   "cell_type": "markdown",
   "id": "working-louisville",
   "metadata": {},
   "source": [
    "First clustering techingues will be K-Means clustering, and our purpose to choose some number of clusters, which will fullfil our analysis with insights and divide the data into meaningfull clusters"
   ]
  },
  {
   "cell_type": "markdown",
   "id": "preceding-bidder",
   "metadata": {},
   "source": [
    "## Determining the number of clusters"
   ]
  },
  {
   "cell_type": "markdown",
   "id": "subtle-despite",
   "metadata": {},
   "source": [
    "I used 2 metrics for finding optimal number of clusters and gain insights from clusters. "
   ]
  },
  {
   "cell_type": "markdown",
   "id": "successful-fancy",
   "metadata": {},
   "source": [
    "First one is Elbow method, the heuristic method of finding breaking point from plot of Sum of squared distances between point inside the cluster and number of clusters."
   ]
  },
  {
   "cell_type": "code",
   "execution_count": 17,
   "id": "marked-toyota",
   "metadata": {},
   "outputs": [
    {
     "data": {
      "text/plain": [
       "[<matplotlib.lines.Line2D at 0x270627b5f08>]"
      ]
     },
     "execution_count": 17,
     "metadata": {},
     "output_type": "execute_result"
    },
    {
     "data": {
      "image/png": "[encoded data removed]",
      "text/plain": [
       "<Figure size 432x288 with 1 Axes>"
      ]
     },
     "metadata": {
      "needs_background": "light"
     },
     "output_type": "display_data"
    }
   ],
   "source": [
    "elbow = []\n",
    "feature_columns = ['Total','InvoiceNo','Last_transfer']\n",
    "range_n_clusters = [2, 3, 4, 5, 6, 7, 8]\n",
    "for num_clusters in range_n_clusters:\n",
    "    kmeans = KMeans(n_clusters=num_clusters, max_iter=100, n_init = 10)\n",
    "    kmeans.fit(frame_scaled)\n",
    "    elbow.append(kmeans.inertia_)\n",
    "    \n",
    "# plot the SSDs for each n_clusters\n",
    "plt.title('Elbow method')\n",
    "plt.xlabel('Number of clusters')\n",
    "plt.ylabel('Sum of squared distances(inertia)')\n",
    "plt.plot(range_n_clusters, elbow)"
   ]
  },
  {
   "cell_type": "markdown",
   "id": "satisfactory-charlotte",
   "metadata": {},
   "source": [
    "So the breaking point is 3 or 4, because the plot is not very clear to define the number of clusters, so I will use another metric named Silhouette Score."
   ]
  },
  {
   "cell_type": "markdown",
   "id": "simple-binding",
   "metadata": {},
   "source": [
    "Silhouette Coefficient or silhouette score is a metric used to calculate the goodness of a clustering technique. Its value ranges from -1 to 1. <br>\n",
    "\n",
    "**1**: Means clusters are well apart from each other and clearly distinguished. <br>\n",
    "**0**: Means clusters are indifferent, or we can say that the distance between clusters is not significant. <br>\n",
    "**-1**: Means clusters are assigned in the wrong way."
   ]
  },
  {
   "cell_type": "code",
   "execution_count": 18,
   "id": "accredited-senate",
   "metadata": {},
   "outputs": [
    {
     "name": "stdout",
     "output_type": "stream",
     "text": [
      "The score for 2 the score is 0.5616851828759848\n",
      "The score for 3 the score is 0.42867071164379694\n",
      "The score for 4 the score is 0.4408420421329765\n",
      "The score for 5 the score is 0.43827249096711635\n",
      "The score for 6 the score is 0.406396427551728\n",
      "The score for 7 the score is 0.4086411120625364\n",
      "The score for 8 the score is 0.3647805957370788\n"
     ]
    }
   ],
   "source": [
    "s_score = []\n",
    "for i in range_n_clusters:\n",
    "    kmeans = KMeans(n_clusters=i, max_iter=100, n_init = 10)\n",
    "    kmeans.fit(frame_scaled)\n",
    "    s_score.append(silhouette_score(frame_scaled, kmeans.labels_))\n",
    "for i in s_score:\n",
    "    print(\"The score for\", s_score.index(i) + 2, \"the score is\", i)"
   ]
  },
  {
   "cell_type": "markdown",
   "id": "changed-rochester",
   "metadata": {},
   "source": [
    "So there is clearly seen that the best practise will be to choose the number of cluster 3, because the difference in silhouette score is not suffficient to add 4th cluster."
   ]
  },
  {
   "cell_type": "code",
   "execution_count": 19,
   "id": "alternative-belle",
   "metadata": {},
   "outputs": [],
   "source": [
    "kmean_fin = KMeans(n_clusters = 3, max_iter = 100, n_init = 10)\n",
    "kmean_fin.fit(frame_scaled)\n",
    "fin_frame['Cluster'] = kmean_fin.predict(frame_scaled[feature_columns])"
   ]
  },
  {
   "cell_type": "code",
   "execution_count": 20,
   "id": "selective-chancellor",
   "metadata": {},
   "outputs": [
    {
     "data": {
      "text/plain": [
       "0    2486\n",
       "1    1059\n",
       "2     644\n",
       "Name: Cluster, dtype: int64"
      ]
     },
     "execution_count": 20,
     "metadata": {},
     "output_type": "execute_result"
    }
   ],
   "source": [
    "fin_frame.Cluster.value_counts()"
   ]
  },
  {
   "cell_type": "code",
   "execution_count": 21,
   "id": "naughty-quarterly",
   "metadata": {},
   "outputs": [
    {
     "data": {
      "text/plain": [
       "<AxesSubplot:xlabel='Cluster', ylabel='Total'>"
      ]
     },
     "execution_count": 21,
     "metadata": {},
     "output_type": "execute_result"
    },
    {
     "data": {
      "image/png": "[encoded data removed]",
      "text/plain": [
       "<Figure size 432x288 with 1 Axes>"
      ]
     },
     "metadata": {
      "needs_background": "light"
     },
     "output_type": "display_data"
    }
   ],
   "source": [
    "sns.boxplot(x = 'Cluster', y = 'Total', data = fin_frame)"
   ]
  },
  {
   "cell_type": "code",
   "execution_count": 22,
   "id": "textile-defendant",
   "metadata": {},
   "outputs": [
    {
     "data": {
      "text/plain": [
       "<AxesSubplot:xlabel='Cluster', ylabel='InvoiceNo'>"
      ]
     },
     "execution_count": 22,
     "metadata": {},
     "output_type": "execute_result"
    },
    {
     "data": {
      "image/png": "[encoded data removed]",
      "text/plain": [
       "<Figure size 432x288 with 1 Axes>"
      ]
     },
     "metadata": {
      "needs_background": "light"
     },
     "output_type": "display_data"
    }
   ],
   "source": [
    "sns.boxplot(x = 'Cluster', y = 'InvoiceNo', data = fin_frame)"
   ]
  },
  {
   "cell_type": "code",
   "execution_count": 23,
   "id": "diverse-christopher",
   "metadata": {},
   "outputs": [
    {
     "data": {
      "text/plain": [
       "<AxesSubplot:xlabel='Cluster', ylabel='Last_transfer'>"
      ]
     },
     "execution_count": 23,
     "metadata": {},
     "output_type": "execute_result"
    },
    {
     "data": {
      "image/png": "[encoded data removed]",
      "text/plain": [
       "<Figure size 432x288 with 1 Axes>"
      ]
     },
     "metadata": {
      "needs_background": "light"
     },
     "output_type": "display_data"
    }
   ],
   "source": [
    "sns.boxplot(x = 'Cluster', y = 'Last_transfer', data = fin_frame)"
   ]
  },
  {
   "cell_type": "markdown",
   "id": "similar-calculator",
   "metadata": {},
   "source": [
    "## Analysis of clusters"
   ]
  },
  {
   "cell_type": "markdown",
   "id": "heard-newport",
   "metadata": {},
   "source": [
    "As we see from boxplot, our labels, which we get from K-Means represented 3 groups of clients.<br>\n",
    "1. Active customers(1st place in customer value) - Label 2\n",
    "2. Recent buyers (2nd place in сustomer value) - Label 0\n",
    "3. Non-active customers(3rd place in customer value) - Label 1"
   ]
  },
  {
   "cell_type": "markdown",
   "id": "respective-street",
   "metadata": {},
   "source": [
    "# Agglomerative Clustering"
   ]
  },
  {
   "cell_type": "markdown",
   "id": "announced-baghdad",
   "metadata": {},
   "source": [
    "## Ward Linkage"
   ]
  },
  {
   "cell_type": "markdown",
   "id": "angry-trauma",
   "metadata": {},
   "source": [
    "Here I made an Agglomerative Clustering with ward linkage."
   ]
  },
  {
   "cell_type": "markdown",
   "id": "legendary-combine",
   "metadata": {},
   "source": [
    "Ward’s method, or minimal increase of sum-of-squares (MISSQ), sometimes incorrectly called \"minimum variance\" method. Proximity between two clusters is the magnitude by which the summed square in their joint cluster will be greater than the combined summed square in these two clusters: SS12−(SS1+SS2). (Between two singleton objects this quantity = squared euclidean distance / 2.) The metaphor of this built of cluster is type. Intuitively, a type is a cloud more dense and more concentric towards its middle, whereas marginal points are few and could be scattered relatively freely."
   ]
  },
  {
   "cell_type": "code",
   "execution_count": 24,
   "id": "incorporated-monitor",
   "metadata": {},
   "outputs": [],
   "source": [
    "ag = AgglomerativeClustering(n_clusters = 3, linkage = 'ward', compute_full_tree = True)\n",
    "ag = ag.fit(frame_scaled[feature_columns])\n",
    "fin_frame['Agg_Cluster_ward'] = ag.fit_predict(frame_scaled[feature_columns])"
   ]
  },
  {
   "cell_type": "code",
   "execution_count": 25,
   "id": "demanding-sudan",
   "metadata": {},
   "outputs": [
    {
     "data": {
      "text/plain": [
       "<AxesSubplot:xlabel='Agg_Cluster_ward', ylabel='Total'>"
      ]
     },
     "execution_count": 25,
     "metadata": {},
     "output_type": "execute_result"
    },
    {
     "data": {
      "image/png": "[encoded data removed]",
      "text/plain": [
       "<Figure size 432x288 with 1 Axes>"
      ]
     },
     "metadata": {
      "needs_background": "light"
     },
     "output_type": "display_data"
    }
   ],
   "source": [
    "sns.boxplot(x = 'Agg_Cluster_ward', y = 'Total', data = fin_frame)"
   ]
  },
  {
   "cell_type": "code",
   "execution_count": 26,
   "id": "raising-sunglasses",
   "metadata": {},
   "outputs": [
    {
     "data": {
      "text/plain": [
       "<AxesSubplot:xlabel='Agg_Cluster_ward', ylabel='InvoiceNo'>"
      ]
     },
     "execution_count": 26,
     "metadata": {},
     "output_type": "execute_result"
    },
    {
     "data": {
      "image/png": "[encoded data removed]",
      "text/plain": [
       "<Figure size 432x288 with 1 Axes>"
      ]
     },
     "metadata": {
      "needs_background": "light"
     },
     "output_type": "display_data"
    }
   ],
   "source": [
    "sns.boxplot(x = 'Agg_Cluster_ward', y = 'InvoiceNo', data = fin_frame)"
   ]
  },
  {
   "cell_type": "code",
   "execution_count": 27,
   "id": "chinese-dispatch",
   "metadata": {},
   "outputs": [
    {
     "data": {
      "text/plain": [
       "<AxesSubplot:xlabel='Agg_Cluster_ward', ylabel='Last_transfer'>"
      ]
     },
     "execution_count": 27,
     "metadata": {},
     "output_type": "execute_result"
    },
    {
     "data": {
      "image/png": "[encoded data removed]",
      "text/plain": [
       "<Figure size 432x288 with 1 Axes>"
      ]
     },
     "metadata": {
      "needs_background": "light"
     },
     "output_type": "display_data"
    }
   ],
   "source": [
    "sns.boxplot(x = 'Agg_Cluster_ward', y = 'Last_transfer', data = fin_frame)"
   ]
  },
  {
   "cell_type": "markdown",
   "id": "blond-australian",
   "metadata": {},
   "source": [
    "### Analysis of clusters"
   ]
  },
  {
   "cell_type": "markdown",
   "id": "renewable-coating",
   "metadata": {},
   "source": [
    "As we see from boxplot, our labels, which we get from Agglomerative Clustering with single linkage represented 3 groups of clients.<br>\n",
    "1. Active customers(1st place in customer value) - Label 0\n",
    "2. Recent buyers (2nd place in сustomer value) - Label 1\n",
    "3. Non-active customers(3rd place in customer value) - Label 2"
   ]
  },
  {
   "cell_type": "markdown",
   "id": "sporting-breast",
   "metadata": {},
   "source": [
    "## Complete Linkage"
   ]
  },
  {
   "cell_type": "markdown",
   "id": "absent-costume",
   "metadata": {},
   "source": [
    "Method of complete linkage or farthest neighbour. Proximity between two clusters is the proximity between their two most distant objects. This value is one of values of the input matrix. The metaphor of this built of cluster is circle (in the sense, by hobby or plot) where two most distant from each other members cannot be much more dissimilar than other quite dissimilar pairs (as in circle). Such clusters are \"compact\" contours by their borders, but they are not necessarily compact inside."
   ]
  },
  {
   "cell_type": "code",
   "execution_count": 28,
   "id": "white-consolidation",
   "metadata": {},
   "outputs": [],
   "source": [
    "ag_sing = AgglomerativeClustering(n_clusters = 3, linkage = 'complete', compute_full_tree = True)\n",
    "ag_sing = ag_sing.fit(frame_scaled[feature_columns])\n",
    "fin_frame['Agg_Cluster_complete'] = ag_sing.fit_predict(frame_scaled[feature_columns])"
   ]
  },
  {
   "cell_type": "code",
   "execution_count": 29,
   "id": "mighty-director",
   "metadata": {},
   "outputs": [
    {
     "data": {
      "text/plain": [
       "<AxesSubplot:xlabel='Agg_Cluster_complete', ylabel='Total'>"
      ]
     },
     "execution_count": 29,
     "metadata": {},
     "output_type": "execute_result"
    },
    {
     "data": {
      "image/png": "[encoded data removed]",
      "text/plain": [
       "<Figure size 432x288 with 1 Axes>"
      ]
     },
     "metadata": {
      "needs_background": "light"
     },
     "output_type": "display_data"
    }
   ],
   "source": [
    "sns.boxplot(x = 'Agg_Cluster_complete', y = 'Total', data = fin_frame)"
   ]
  },
  {
   "cell_type": "code",
   "execution_count": 30,
   "id": "incorporated-laundry",
   "metadata": {},
   "outputs": [
    {
     "data": {
      "text/plain": [
       "<AxesSubplot:xlabel='Agg_Cluster_complete', ylabel='InvoiceNo'>"
      ]
     },
     "execution_count": 30,
     "metadata": {},
     "output_type": "execute_result"
    },
    {
     "data": {
      "image/png": "[encoded data removed]",
      "text/plain": [
       "<Figure size 432x288 with 1 Axes>"
      ]
     },
     "metadata": {
      "needs_background": "light"
     },
     "output_type": "display_data"
    }
   ],
   "source": [
    "sns.boxplot(x = 'Agg_Cluster_complete', y = 'InvoiceNo', data = fin_frame)"
   ]
  },
  {
   "cell_type": "code",
   "execution_count": 31,
   "id": "informative-australia",
   "metadata": {},
   "outputs": [
    {
     "data": {
      "text/plain": [
       "<AxesSubplot:xlabel='Agg_Cluster_complete', ylabel='Last_transfer'>"
      ]
     },
     "execution_count": 31,
     "metadata": {},
     "output_type": "execute_result"
    },
    {
     "data": {
      "image/png": "[encoded data removed]",
      "text/plain": [
       "<Figure size 432x288 with 1 Axes>"
      ]
     },
     "metadata": {
      "needs_background": "light"
     },
     "output_type": "display_data"
    }
   ],
   "source": [
    "sns.boxplot(x = 'Agg_Cluster_complete', y = 'Last_transfer', data = fin_frame)"
   ]
  },
  {
   "cell_type": "markdown",
   "id": "choice-respect",
   "metadata": {},
   "source": [
    "### Analysis of clusters"
   ]
  },
  {
   "cell_type": "markdown",
   "id": "continuing-pleasure",
   "metadata": {},
   "source": [
    "As we see from boxplot, our labels, which we get from Agglomearative clustering with complete linkage represented 3 groups of clients.<br>\n",
    "1. Active customers(1st place in customer value) - Label 2\n",
    "2. Recent buyers (2nd place in сustomer value) - Label 0\n",
    "3. Non-active customers(3rd place in customer value) - Label 1"
   ]
  },
  {
   "cell_type": "markdown",
   "id": "animated-dream",
   "metadata": {},
   "source": [
    "# Further improvements"
   ]
  },
  {
   "cell_type": "markdown",
   "id": "civilian-ground",
   "metadata": {},
   "source": [
    "I used 3 different cluster techniques and as an improvement, we can make a elections between them and label a client in terms of category, which I decribed above. And choose a category for client, which is more suitable in election. <br>\n",
    "Also trying different linkage methods can show us different results and can be more appropriate."
   ]
  }
 ],
 "metadata": {
  "kernelspec": {
   "display_name": "Python 3",
   "language": "python",
   "name": "python3"
  },
  "language_info": {
   "codemirror_mode": {
    "name": "ipython",
    "version": 3
   },
   "file_extension": ".py",
   "mimetype": "text/x-python",
   "name": "python",
   "nbconvert_exporter": "python",
   "pygments_lexer": "ipython3",
   "version": "3.7.6"
  }
 },
 "nbformat": 4,
 "nbformat_minor": 5
}
